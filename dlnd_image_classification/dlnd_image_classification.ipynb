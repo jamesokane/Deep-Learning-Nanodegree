{
 "cells": [
  {
   "cell_type": "markdown",
   "metadata": {
    "collapsed": true
   },
   "source": [
    "# Image Classification\n",
    "In this project, you'll classify images from the [CIFAR-10 dataset](https://www.cs.toronto.edu/~kriz/cifar.html).  The dataset consists of airplanes, dogs, cats, and other objects. You'll preprocess the images, then train a convolutional neural network on all the samples. The images need to be normalized and the labels need to be one-hot encoded.  You'll get to apply what you learned and build a convolutional, max pooling, dropout, and fully connected layers.  At the end, you'll get to see your neural network's predictions on the sample images.\n",
    "## Get the Data\n",
    "Run the following cell to download the [CIFAR-10 dataset for python](https://www.cs.toronto.edu/~kriz/cifar-10-python.tar.gz)."
   ]
  },
  {
   "cell_type": "code",
   "execution_count": 1,
   "metadata": {},
   "outputs": [
    {
     "name": "stdout",
     "output_type": "stream",
     "text": [
      "All files found!\n"
     ]
    }
   ],
   "source": [
    "\"\"\"\n",
    "DON'T MODIFY ANYTHING IN THIS CELL THAT IS BELOW THIS LINE\n",
    "\"\"\"\n",
    "from urllib.request import urlretrieve\n",
    "from os.path import isfile, isdir\n",
    "from tqdm import tqdm\n",
    "import problem_unittests as tests\n",
    "import tarfile\n",
    "\n",
    "cifar10_dataset_folder_path = 'cifar-10-batches-py'\n",
    "\n",
    "# Use Floyd's cifar-10 dataset if present\n",
    "floyd_cifar10_location = '/input/cifar-10/python.tar.gz'\n",
    "if isfile(floyd_cifar10_location):\n",
    "    tar_gz_path = floyd_cifar10_location\n",
    "else:\n",
    "    tar_gz_path = 'cifar-10-python.tar.gz'\n",
    "\n",
    "class DLProgress(tqdm):\n",
    "    last_block = 0\n",
    "\n",
    "    def hook(self, block_num=1, block_size=1, total_size=None):\n",
    "        self.total = total_size\n",
    "        self.update((block_num - self.last_block) * block_size)\n",
    "        self.last_block = block_num\n",
    "\n",
    "if not isfile(tar_gz_path):\n",
    "    with DLProgress(unit='B', unit_scale=True, miniters=1, desc='CIFAR-10 Dataset') as pbar:\n",
    "        urlretrieve(\n",
    "            'https://www.cs.toronto.edu/~kriz/cifar-10-python.tar.gz',\n",
    "            tar_gz_path,\n",
    "            pbar.hook)\n",
    "\n",
    "if not isdir(cifar10_dataset_folder_path):\n",
    "    with tarfile.open(tar_gz_path) as tar:\n",
    "        tar.extractall()\n",
    "        tar.close()\n",
    "\n",
    "\n",
    "tests.test_folder_path(cifar10_dataset_folder_path)"
   ]
  },
  {
   "cell_type": "markdown",
   "metadata": {},
   "source": [
    "## Explore the Data\n",
    "The dataset is broken into batches to prevent your machine from running out of memory.  The CIFAR-10 dataset consists of 5 batches, named `data_batch_1`, `data_batch_2`, etc.. Each batch contains the labels and images that are one of the following:\n",
    "* airplane\n",
    "* automobile\n",
    "* bird\n",
    "* cat\n",
    "* deer\n",
    "* dog\n",
    "* frog\n",
    "* horse\n",
    "* ship\n",
    "* truck\n",
    "\n",
    "Understanding a dataset is part of making predictions on the data.  Play around with the code cell below by changing the `batch_id` and `sample_id`. The `batch_id` is the id for a batch (1-5). The `sample_id` is the id for a image and label pair in the batch.\n",
    "\n",
    "Ask yourself \"What are all possible labels?\", \"What is the range of values for the image data?\", \"Are the labels in order or random?\".  Answers to questions like these will help you preprocess the data and end up with better predictions."
   ]
  },
  {
   "cell_type": "code",
   "execution_count": 2,
   "metadata": {},
   "outputs": [
    {
     "name": "stdout",
     "output_type": "stream",
     "text": [
      "\n",
      "Stats of batch 1:\n",
      "Samples: 10000\n",
      "Label Counts: {0: 1005, 1: 974, 2: 1032, 3: 1016, 4: 999, 5: 937, 6: 1030, 7: 1001, 8: 1025, 9: 981}\n",
      "First 20 Labels: [6, 9, 9, 4, 1, 1, 2, 7, 8, 3, 4, 7, 7, 2, 9, 9, 9, 3, 2, 6]\n",
      "\n",
      "Example of Image 5:\n",
      "Image - Min Value: 0 Max Value: 252\n",
      "Image - Shape: (32, 32, 3)\n",
      "Label - Label Id: 1 Name: automobile\n"
     ]
    },
    {
     "data": {
      "image/png": "[encoded data removed]",
      "text/plain": [
       "<matplotlib.figure.Figure at 0x281947ac3c8>"
      ]
     },
     "metadata": {
      "image/png": {
       "height": 250,
       "width": 253
      }
     },
     "output_type": "display_data"
    }
   ],
   "source": [
    "%matplotlib inline\n",
    "%config InlineBackend.figure_format = 'retina'\n",
    "\n",
    "import helper\n",
    "import numpy as np\n",
    "\n",
    "# Explore the dataset\n",
    "batch_id = 1\n",
    "sample_id = 5\n",
    "helper.display_stats(cifar10_dataset_folder_path, batch_id, sample_id)"
   ]
  },
  {
   "cell_type": "markdown",
   "metadata": {},
   "source": [
    "## Implement Preprocess Functions\n",
    "### Normalize\n",
    "In the cell below, implement the `normalize` function to take in image data, `x`, and return it as a normalized Numpy array. The values should be in the range of 0 to 1, inclusive.  The return object should be the same shape as `x`."
   ]
  },
  {
   "cell_type": "code",
   "execution_count": 3,
   "metadata": {},
   "outputs": [
    {
     "name": "stdout",
     "output_type": "stream",
     "text": [
      "Tests Passed\n"
     ]
    }
   ],
   "source": [
    "def normalize(x):\n",
    "    \"\"\"\n",
    "    Normalize a list of sample image data in the range of 0 to 1\n",
    "    : x: List of image data.  The image shape is (32, 32, 3)\n",
    "    : return: Numpy array of normalize data\n",
    "    \"\"\"\n",
    "    # TODO: Implement Function\n",
    "    a = 0\n",
    "    b = 1.0\n",
    "    x_min = 0\n",
    "    x_max = 255\n",
    "    return a + ( ( (x - x_min)*(b - a) )/( x_max - x_min ) )\n",
    "\n",
    "\"\"\"\n",
    "DON'T MODIFY ANYTHING IN THIS CELL THAT IS BELOW THIS LINE\n",
    "\"\"\"\n",
    "tests.test_normalize(normalize)"
   ]
  },
  {
   "cell_type": "markdown",
   "metadata": {},
   "source": [
    "### One-hot encode\n",
    "Just like the previous code cell, you'll be implementing a function for preprocessing.  This time, you'll implement the `one_hot_encode` function. The input, `x`, are a list of labels.  Implement the function to return the list of labels as One-Hot encoded Numpy array.  The possible values for labels are 0 to 9. The one-hot encoding function should return the same encoding for each value between each call to `one_hot_encode`.  Make sure to save the map of encodings outside the function.\n",
    "\n",
    "Hint: Don't reinvent the wheel."
   ]
  },
  {
   "cell_type": "code",
   "execution_count": 4,
   "metadata": {},
   "outputs": [
    {
     "name": "stdout",
     "output_type": "stream",
     "text": [
      "Tests Passed\n"
     ]
    }
   ],
   "source": [
    "from sklearn import preprocessing\n",
    "encoder = preprocessing.LabelBinarizer()\n",
    "encoder = encoder.fit(np.array([np.zeros(10)]))\n",
    "\n",
    "def one_hot_encode(x):\n",
    "    \"\"\"\n",
    "    One hot encode a list of sample labels. Return a one-hot encoded vector for each label.\n",
    "    : x: List of sample Labels\n",
    "    : return: Numpy array of one-hot encoded labels\n",
    "    \"\"\"\n",
    "    # TODO: Implement Function \n",
    "    return encoder.transform(x)\n",
    "\n",
    "\n",
    "\n",
    "\n",
    "\"\"\"\n",
    "DON'T MODIFY ANYTHING IN THIS CELL THAT IS BELOW THIS LINE\n",
    "\"\"\"\n",
    "tests.test_one_hot_encode(one_hot_encode)"
   ]
  },
  {
   "cell_type": "markdown",
   "metadata": {},
   "source": [
    "### Randomize Data\n",
    "As you saw from exploring the data above, the order of the samples are randomized.  It doesn't hurt to randomize it again, but you don't need to for this dataset."
   ]
  },
  {
   "cell_type": "markdown",
   "metadata": {},
   "source": [
    "## Preprocess all the data and save it\n",
    "Running the code cell below will preprocess all the CIFAR-10 data and save it to file. The code below also uses 10% of the training data for validation."
   ]
  },
  {
   "cell_type": "code",
   "execution_count": 5,
   "metadata": {},
   "outputs": [],
   "source": [
    "\"\"\"\n",
    "DON'T MODIFY ANYTHING IN THIS CELL\n",
    "\"\"\"\n",
    "# Preprocess Training, Validation, and Testing Data\n",
    "helper.preprocess_and_save_data(cifar10_dataset_folder_path, normalize, one_hot_encode)"
   ]
  },
  {
   "cell_type": "markdown",
   "metadata": {},
   "source": [
    "# Check Point\n",
    "This is your first checkpoint.  If you ever decide to come back to this notebook or have to restart the notebook, you can start from here.  The preprocessed data has been saved to disk."
   ]
  },
  {
   "cell_type": "code",
   "execution_count": 6,
   "metadata": {},
   "outputs": [],
   "source": [
    "\"\"\"\n",
    "DON'T MODIFY ANYTHING IN THIS CELL\n",
    "\"\"\"\n",
    "import pickle\n",
    "import problem_unittests as tests\n",
    "import helper\n",
    "\n",
    "# Load the Preprocessed Validation data\n",
    "valid_features, valid_labels = pickle.load(open('preprocess_validation.p', mode='rb'))"
   ]
  },
  {
   "cell_type": "markdown",
   "metadata": {},
   "source": [
    "## Build the network\n",
    "For the neural network, you'll build each layer into a function.  Most of the code you've seen has been outside of functions. To test your code more thoroughly, we require that you put each layer in a function.  This allows us to give you better feedback and test for simple mistakes using our unittests before you submit your project.\n",
    "\n",
    ">**Note:** If you're finding it hard to dedicate enough time for this course each week, we've provided a small shortcut to this part of the project. In the next couple of problems, you'll have the option to use classes from the [TensorFlow Layers](https://www.tensorflow.org/api_docs/python/tf/layers) or [TensorFlow Layers (contrib)](https://www.tensorflow.org/api_guides/python/contrib.layers) packages to build each layer, except the layers you build in the \"Convolutional and Max Pooling Layer\" section.  TF Layers is similar to Keras's and TFLearn's abstraction to layers, so it's easy to pickup.\n",
    "\n",
    ">However, if you would like to get the most out of this course, try to solve all the problems _without_ using anything from the TF Layers packages. You **can** still use classes from other packages that happen to have the same name as ones you find in TF Layers! For example, instead of using the TF Layers version of the `conv2d` class, [tf.layers.conv2d](https://www.tensorflow.org/api_docs/python/tf/layers/conv2d), you would want to use the TF Neural Network version of `conv2d`, [tf.nn.conv2d](https://www.tensorflow.org/api_docs/python/tf/nn/conv2d). \n",
    "\n",
    "Let's begin!\n",
    "\n",
    "### Input\n",
    "The neural network needs to read the image data, one-hot encoded labels, and dropout keep probability. Implement the following functions\n",
    "* Implement `neural_net_image_input`\n",
    " * Return a [TF Placeholder](https://www.tensorflow.org/api_docs/python/tf/placeholder)\n",
    " * Set the shape using `image_shape` with batch size set to `None`.\n",
    " * Name the TensorFlow placeholder \"x\" using the TensorFlow `name` parameter in the [TF Placeholder](https://www.tensorflow.org/api_docs/python/tf/placeholder).\n",
    "* Implement `neural_net_label_input`\n",
    " * Return a [TF Placeholder](https://www.tensorflow.org/api_docs/python/tf/placeholder)\n",
    " * Set the shape using `n_classes` with batch size set to `None`.\n",
    " * Name the TensorFlow placeholder \"y\" using the TensorFlow `name` parameter in the [TF Placeholder](https://www.tensorflow.org/api_docs/python/tf/placeholder).\n",
    "* Implement `neural_net_keep_prob_input`\n",
    " * Return a [TF Placeholder](https://www.tensorflow.org/api_docs/python/tf/placeholder) for dropout keep probability.\n",
    " * Name the TensorFlow placeholder \"keep_prob\" using the TensorFlow `name` parameter in the [TF Placeholder](https://www.tensorflow.org/api_docs/python/tf/placeholder).\n",
    "\n",
    "These names will be used at the end of the project to load your saved model.\n",
    "\n",
    "Note: `None` for shapes in TensorFlow allow for a dynamic size."
   ]
  },
  {
   "cell_type": "code",
   "execution_count": 7,
   "metadata": {
    "scrolled": true
   },
   "outputs": [
    {
     "name": "stdout",
     "output_type": "stream",
     "text": [
      "Image Input Tests Passed.\n",
      "Label Input Tests Passed.\n",
      "Keep Prob Tests Passed.\n"
     ]
    }
   ],
   "source": [
    "import tensorflow as tf\n",
    "\n",
    "\n",
    "def neural_net_image_input(image_shape):\n",
    "    \"\"\"\n",
    "    Return a Tensor for a batch of image input\n",
    "    : image_shape: Shape of the images\n",
    "    : return: Tensor for image input.\n",
    "    \"\"\"\n",
    "    # TODO: Implement Function\n",
    "    return tf.placeholder(dtype=tf.float32, shape=[None, image_shape[0], image_shape[1], image_shape[2]], name=\"x\")\n",
    "\n",
    "def neural_net_label_input(n_classes):\n",
    "    \"\"\"\n",
    "    Return a Tensor for a batch of label input\n",
    "    : n_classes: Number of classes\n",
    "    : return: Tensor for label input.\n",
    "    \"\"\"\n",
    "    # TODO: Implement Function\n",
    "    return tf.placeholder(dtype=tf.float32, shape=[None, n_classes], name=\"y\")\n",
    "\n",
    "\n",
    "def neural_net_keep_prob_input():\n",
    "    \"\"\"\n",
    "    Return a Tensor for keep probability\n",
    "    : return: Tensor for keep probability.\n",
    "    \"\"\"\n",
    "    # TODO: Implement Function\n",
    "    return tf.placeholder(dtype=tf.float32, name=\"keep_prob\")\n",
    "\n",
    "\n",
    "\"\"\"\n",
    "DON'T MODIFY ANYTHING IN THIS CELL THAT IS BELOW THIS LINE\n",
    "\"\"\"\n",
    "tf.reset_default_graph()\n",
    "tests.test_nn_image_inputs(neural_net_image_input)\n",
    "tests.test_nn_label_inputs(neural_net_label_input)\n",
    "tests.test_nn_keep_prob_inputs(neural_net_keep_prob_input)"
   ]
  },
  {
   "cell_type": "markdown",
   "metadata": {},
   "source": [
    "### Convolution and Max Pooling Layer\n",
    "Convolution layers have a lot of success with images. For this code cell, you should implement the function `conv2d_maxpool` to apply convolution then max pooling:\n",
    "* Create the weight and bias using `conv_ksize`, `conv_num_outputs` and the shape of `x_tensor`.\n",
    "* Apply a convolution to `x_tensor` using weight and `conv_strides`.\n",
    " * We recommend you use same padding, but you're welcome to use any padding.\n",
    "* Add bias\n",
    "* Add a nonlinear activation to the convolution.\n",
    "* Apply Max Pooling using `pool_ksize` and `pool_strides`.\n",
    " * We recommend you use same padding, but you're welcome to use any padding.\n",
    "\n",
    "**Note:** You **can't** use [TensorFlow Layers](https://www.tensorflow.org/api_docs/python/tf/layers) or [TensorFlow Layers (contrib)](https://www.tensorflow.org/api_guides/python/contrib.layers) for **this** layer, but you can still use TensorFlow's [Neural Network](https://www.tensorflow.org/api_docs/python/tf/nn) package. You may still use the shortcut option for all the **other** layers."
   ]
  },
  {
   "cell_type": "code",
   "execution_count": 8,
   "metadata": {},
   "outputs": [
    {
     "name": "stdout",
     "output_type": "stream",
     "text": [
      "Tests Passed\n"
     ]
    }
   ],
   "source": [
    "def conv2d_maxpool(x_tensor, conv_num_outputs, conv_ksize, conv_strides, pool_ksize, pool_strides):\n",
    "    \"\"\"\n",
    "    Apply convolution then max pooling to x_tensor\n",
    "    :param x_tensor: TensorFlow Tensor\n",
    "    :param conv_num_outputs: Number of outputs for the convolutional layer\n",
    "    :param conv_ksize: kernal size 2-D Tuple for the convolutional layer\n",
    "    :param conv_strides: Stride 2-D Tuple for convolution\n",
    "    :param pool_ksize: kernal size 2-D Tuple for pool\n",
    "    :param pool_strides: Stride 2-D Tuple for pool\n",
    "    : return: A tensor that represents convolution and max pooling of x_tensor\n",
    "    \"\"\"\n",
    "    # TODO: Implement Function\n",
    "    # Weight and bias\n",
    "    image_depth = x_tensor.shape[3].value\n",
    "    weight = tf.Variable(tf.truncated_normal([conv_ksize[0], conv_ksize[1], image_depth, conv_num_outputs], \n",
    "                                             mean=0, \n",
    "                                             stddev=0.1))\n",
    "    bias = tf.Variable(tf.zeros(conv_num_outputs))\n",
    "    \n",
    "    # Apply Convolution\n",
    "    conv_layer = tf.nn.conv2d(x_tensor, \n",
    "                              weight, \n",
    "                              strides=[1, conv_strides[0], conv_strides[1], 1], \n",
    "                              padding='SAME')\n",
    "    \n",
    "    # Add bias\n",
    "    conv_layer = tf.nn.bias_add(conv_layer, bias)\n",
    "    \n",
    "    # Apply activation function\n",
    "    conv_layer = tf.nn.relu(conv_layer)\n",
    "    \n",
    "    # Apply Max Pooling\n",
    "    conv_layer = tf.nn.max_pool(\n",
    "        conv_layer,\n",
    "        ksize=[1, pool_ksize[0], pool_ksize[1], 1],\n",
    "        strides=[1, pool_strides[0], pool_strides[1], 1],\n",
    "        padding='SAME')\n",
    "    \n",
    "    return conv_layer \n",
    "\n",
    "\"\"\"\n",
    "DON'T MODIFY ANYTHING IN THIS CELL THAT IS BELOW THIS LINE\n",
    "\"\"\"\n",
    "tests.test_con_pool(conv2d_maxpool)"
   ]
  },
  {
   "cell_type": "markdown",
   "metadata": {},
   "source": [
    "### Flatten Layer\n",
    "Implement the `flatten` function to change the dimension of `x_tensor` from a 4-D tensor to a 2-D tensor.  The output should be the shape (*Batch Size*, *Flattened Image Size*). Shortcut option: you can use classes from the [TensorFlow Layers](https://www.tensorflow.org/api_docs/python/tf/layers) or [TensorFlow Layers (contrib)](https://www.tensorflow.org/api_guides/python/contrib.layers) packages for this layer. For more of a challenge, only use other TensorFlow packages."
   ]
  },
  {
   "cell_type": "code",
   "execution_count": 9,
   "metadata": {},
   "outputs": [
    {
     "name": "stdout",
     "output_type": "stream",
     "text": [
      "Tests Passed\n"
     ]
    }
   ],
   "source": [
    "import numpy as np\n",
    "\n",
    "def flatten(x_tensor):\n",
    "    \"\"\"\n",
    "    Flatten x_tensor to (Batch Size, Flattened Image Size)\n",
    "    : x_tensor: A tensor of size (Batch Size, ...), where ... are the image dimensions.\n",
    "    : return: A tensor of size (Batch Size, Flattened Image Size).\n",
    "    \"\"\"\n",
    "    # TODO: Implement Function\n",
    "    shape = x_tensor.get_shape().as_list()\n",
    "    dimension = np.prod(shape[1:])\n",
    "    return tf.reshape(x_tensor, [-1, dimension]) \n",
    "\n",
    "\n",
    "\"\"\"\n",
    "DON'T MODIFY ANYTHING IN THIS CELL THAT IS BELOW THIS LINE\n",
    "\"\"\"\n",
    "tests.test_flatten(flatten)"
   ]
  },
  {
   "cell_type": "markdown",
   "metadata": {},
   "source": [
    "### Fully-Connected Layer\n",
    "Implement the `fully_conn` function to apply a fully connected layer to `x_tensor` with the shape (*Batch Size*, *num_outputs*). Shortcut option: you can use classes from the [TensorFlow Layers](https://www.tensorflow.org/api_docs/python/tf/layers) or [TensorFlow Layers (contrib)](https://www.tensorflow.org/api_guides/python/contrib.layers) packages for this layer. For more of a challenge, only use other TensorFlow packages."
   ]
  },
  {
   "cell_type": "code",
   "execution_count": 10,
   "metadata": {},
   "outputs": [
    {
     "name": "stdout",
     "output_type": "stream",
     "text": [
      "Tests Passed\n"
     ]
    }
   ],
   "source": [
    "def fully_conn(x_tensor, num_outputs):\n",
    "    \"\"\"\n",
    "    Apply a fully connected layer to x_tensor using weight and bias\n",
    "    : x_tensor: A 2-D tensor where the first dimension is batch size.\n",
    "    : num_outputs: The number of output that the new tensor should be.\n",
    "    : return: A 2-D tensor where the second dimension is num_outputs.\n",
    "    \"\"\"\n",
    "    # TODO: Implement Function\n",
    "    size = x_tensor.shape[1].value\n",
    "    weights = tf.Variable(tf.truncated_normal([size, num_outputs], \n",
    "                                              mean=0, \n",
    "                                              stddev=0.1))\n",
    "    biases = tf.Variable(tf.zeros(num_outputs))\n",
    "    return tf.nn.relu(tf.add(tf.matmul(x_tensor, weights), biases))\n",
    "\n",
    "\"\"\"\n",
    "DON'T MODIFY ANYTHING IN THIS CELL THAT IS BELOW THIS LINE\n",
    "\"\"\"\n",
    "tests.test_fully_conn(fully_conn)"
   ]
  },
  {
   "cell_type": "markdown",
   "metadata": {},
   "source": [
    "### Output Layer\n",
    "Implement the `output` function to apply a fully connected layer to `x_tensor` with the shape (*Batch Size*, *num_outputs*). Shortcut option: you can use classes from the [TensorFlow Layers](https://www.tensorflow.org/api_docs/python/tf/layers) or [TensorFlow Layers (contrib)](https://www.tensorflow.org/api_guides/python/contrib.layers) packages for this layer. For more of a challenge, only use other TensorFlow packages.\n",
    "\n",
    "**Note:** Activation, softmax, or cross entropy should **not** be applied to this."
   ]
  },
  {
   "cell_type": "code",
   "execution_count": 11,
   "metadata": {},
   "outputs": [
    {
     "name": "stdout",
     "output_type": "stream",
     "text": [
      "Tests Passed\n"
     ]
    }
   ],
   "source": [
    "def output(x_tensor, num_outputs):\n",
    "    \"\"\"\n",
    "    Apply a output layer to x_tensor using weight and bias\n",
    "    : x_tensor: A 2-D tensor where the first dimension is batch size.\n",
    "    : num_outputs: The number of output that the new tensor should be.\n",
    "    : return: A 2-D tensor where the second dimension is num_outputs.\n",
    "    \"\"\"\n",
    "    # TODO: Implement Function\n",
    "    size = x_tensor.shape[1].value\n",
    "    weights = tf.Variable(tf.truncated_normal([size, num_outputs], \n",
    "                                              mean=0, \n",
    "                                              stddev=0.1))\n",
    "    biases = tf.Variable(tf.zeros(num_outputs))\n",
    "    return tf.add(tf.matmul(x_tensor, weights), biases)\n",
    "\n",
    "\"\"\"\n",
    "DON'T MODIFY ANYTHING IN THIS CELL THAT IS BELOW THIS LINE\n",
    "\"\"\"\n",
    "tests.test_output(output)"
   ]
  },
  {
   "cell_type": "markdown",
   "metadata": {},
   "source": [
    "### Create Convolutional Model\n",
    "Implement the function `conv_net` to create a convolutional neural network model. The function takes in a batch of images, `x`, and outputs logits.  Use the layers you created above to create this model:\n",
    "\n",
    "* Apply 1, 2, or 3 Convolution and Max Pool layers\n",
    "* Apply a Flatten Layer\n",
    "* Apply 1, 2, or 3 Fully Connected Layers\n",
    "* Apply an Output Layer\n",
    "* Return the output\n",
    "* Apply [TensorFlow's Dropout](https://www.tensorflow.org/api_docs/python/tf/nn/dropout) to one or more layers in the model using `keep_prob`. "
   ]
  },
  {
   "cell_type": "code",
   "execution_count": 12,
   "metadata": {},
   "outputs": [
    {
     "name": "stdout",
     "output_type": "stream",
     "text": [
      "Neural Network Built!\n"
     ]
    }
   ],
   "source": [
    "def conv_net(x, keep_prob):\n",
    "    \"\"\"\n",
    "    Create a convolutional neural network model\n",
    "    : x: Placeholder tensor that holds image data.\n",
    "    : keep_prob: Placeholder tensor that hold dropout keep probability.\n",
    "    : return: Tensor that represents logits\n",
    "    \"\"\"\n",
    "    # TODO: Apply 1, 2, or 3 Convolution and Max Pool layers\n",
    "    #    Play around with different number of outputs, kernel size and stride\n",
    "    # Function Definition from Above:\n",
    "    #    conv2d_maxpool(x_tensor, conv_num_outputs, conv_ksize, conv_strides, pool_ksize, pool_strides)\n",
    "    \n",
    "    conv_ksize = [3, 3]\n",
    "    conv_strides = [1, 1]\n",
    "    pool_ksize = [2, 2]\n",
    "    pool_strides = [2, 2]\n",
    "        \n",
    "    conv1 = conv2d_maxpool(x, 16, conv_ksize, conv_strides, pool_ksize, pool_strides)\n",
    "    conv2 = conv2d_maxpool(conv1, 32, conv_ksize, conv_strides, pool_ksize, pool_strides)\n",
    "    conv3 = conv2d_maxpool(conv2, 64, conv_ksize, conv_strides, pool_ksize, pool_strides)\n",
    "\n",
    "    # TODO: Apply a Flatten Layer\n",
    "    # Function Definition from Above:\n",
    "    #   flatten(x_tensor)\n",
    "    flat1 = flatten(conv3)\n",
    "\n",
    "    # TODO: Apply 1, 2, or 3 Fully Connected Layers\n",
    "    #    Play around with different number of outputs\n",
    "    # Function Definition from Above:\n",
    "    #   fully_conn(x_tensor, num_outputs)\n",
    "    fc1 = fully_conn(flat1, 100)\n",
    "    fc1 = tf.nn.dropout(fc1, keep_prob)\n",
    "    fc2 = fully_conn(fc1, 50)\n",
    "    fc2 = tf.nn.dropout(fc2, keep_prob)\n",
    "    \n",
    "    # TODO: Apply an Output Layer\n",
    "    #    Set this to the number of classes\n",
    "    # Function Definition from Above:\n",
    "    #   output(x_tensor, num_outputs)\n",
    "    out_layer = output(fc1, 10)\n",
    "    \n",
    "    # TODO: return output\n",
    "    return out_layer\n",
    "\n",
    "\n",
    "\"\"\"\n",
    "DON'T MODIFY ANYTHING IN THIS CELL THAT IS BELOW THIS LINE\n",
    "\"\"\"\n",
    "\n",
    "##############################\n",
    "## Build the Neural Network ##\n",
    "##############################\n",
    "\n",
    "# Remove previous weights, bias, inputs, etc..\n",
    "tf.reset_default_graph()\n",
    "\n",
    "# Inputs\n",
    "x = neural_net_image_input((32, 32, 3))\n",
    "y = neural_net_label_input(10)\n",
    "keep_prob = neural_net_keep_prob_input()\n",
    "\n",
    "# Model\n",
    "logits = conv_net(x, keep_prob)\n",
    "\n",
    "# Name logits Tensor, so that is can be loaded from disk after training\n",
    "logits = tf.identity(logits, name='logits')\n",
    "\n",
    "# Loss and Optimizer\n",
    "cost = tf.reduce_mean(tf.nn.softmax_cross_entropy_with_logits(logits=logits, labels=y))\n",
    "optimizer = tf.train.AdamOptimizer().minimize(cost)\n",
    "\n",
    "# Accuracy\n",
    "correct_pred = tf.equal(tf.argmax(logits, 1), tf.argmax(y, 1))\n",
    "accuracy = tf.reduce_mean(tf.cast(correct_pred, tf.float32), name='accuracy')\n",
    "\n",
    "tests.test_conv_net(conv_net)"
   ]
  },
  {
   "cell_type": "markdown",
   "metadata": {},
   "source": [
    "## Train the Neural Network\n",
    "### Single Optimization\n",
    "Implement the function `train_neural_network` to do a single optimization.  The optimization should use `optimizer` to optimize in `session` with a `feed_dict` of the following:\n",
    "* `x` for image input\n",
    "* `y` for labels\n",
    "* `keep_prob` for keep probability for dropout\n",
    "\n",
    "This function will be called for each batch, so `tf.global_variables_initializer()` has already been called.\n",
    "\n",
    "Note: Nothing needs to be returned. This function is only optimizing the neural network."
   ]
  },
  {
   "cell_type": "code",
   "execution_count": 13,
   "metadata": {},
   "outputs": [
    {
     "name": "stdout",
     "output_type": "stream",
     "text": [
      "Tests Passed\n"
     ]
    }
   ],
   "source": [
    "def train_neural_network(session, optimizer, keep_probability, feature_batch, label_batch):\n",
    "    \"\"\"\n",
    "    Optimize the session on a batch of images and labels\n",
    "    : session: Current TensorFlow session\n",
    "    : optimizer: TensorFlow optimizer function\n",
    "    : keep_probability: keep probability\n",
    "    : feature_batch: Batch of Numpy image data\n",
    "    : label_batch: Batch of Numpy label data\n",
    "    \"\"\"\n",
    "    # TODO: Implement Function\n",
    "    session.run(optimizer, feed_dict={\n",
    "        x: feature_batch, \n",
    "        y: label_batch, \n",
    "        keep_prob: keep_probability})\n",
    "\n",
    "\n",
    "\"\"\"\n",
    "DON'T MODIFY ANYTHING IN THIS CELL THAT IS BELOW THIS LINE\n",
    "\"\"\"\n",
    "tests.test_train_nn(train_neural_network)"
   ]
  },
  {
   "cell_type": "markdown",
   "metadata": {},
   "source": [
    "### Show Stats\n",
    "Implement the function `print_stats` to print loss and validation accuracy.  Use the global variables `valid_features` and `valid_labels` to calculate validation accuracy.  Use a keep probability of `1.0` to calculate the loss and validation accuracy."
   ]
  },
  {
   "cell_type": "code",
   "execution_count": 14,
   "metadata": {
    "collapsed": true
   },
   "outputs": [],
   "source": [
    "def print_stats(session, feature_batch, label_batch, cost, accuracy):\n",
    "    \"\"\"\n",
    "    Print information about loss and validation accuracy\n",
    "    : session: Current TensorFlow session\n",
    "    : feature_batch: Batch of Numpy image data\n",
    "    : label_batch: Batch of Numpy label data\n",
    "    : cost: TensorFlow cost function\n",
    "    : accuracy: TensorFlow accuracy function\n",
    "    \"\"\"\n",
    "    # TODO: Implement Function\n",
    "    loss = session.run(cost, feed_dict={\n",
    "        x: feature_batch,\n",
    "        y: label_batch,\n",
    "        keep_prob: 1.})\n",
    "    \n",
    "    valid_acc = session.run(accuracy, feed_dict={\n",
    "        x: valid_features,\n",
    "        y: valid_labels,\n",
    "        keep_prob: 1.})\n",
    "    \n",
    "    print('Loss: {:>10.4f} Validation Accuracy: {:.6f}'.format(loss, valid_acc))\n",
    "    "
   ]
  },
  {
   "cell_type": "markdown",
   "metadata": {},
   "source": [
    "### Hyperparameters\n",
    "Tune the following parameters:\n",
    "* Set `epochs` to the number of iterations until the network stops learning or start overfitting\n",
    "* Set `batch_size` to the highest number that your machine has memory for.  Most people set them to common sizes of memory:\n",
    " * 64\n",
    " * 128\n",
    " * 256\n",
    " * ...\n",
    "* Set `keep_probability` to the probability of keeping a node using dropout"
   ]
  },
  {
   "cell_type": "code",
   "execution_count": 15,
   "metadata": {
    "collapsed": true
   },
   "outputs": [],
   "source": [
    "# TODO: Tune Parameters\n",
    "epochs = 30\n",
    "batch_size = 512\n",
    "keep_probability = 0.75"
   ]
  },
  {
   "cell_type": "markdown",
   "metadata": {},
   "source": [
    "### Train on a Single CIFAR-10 Batch\n",
    "Instead of training the neural network on all the CIFAR-10 batches of data, let's use a single batch. This should save time while you iterate on the model to get a better accuracy.  Once the final validation accuracy is 50% or greater, run the model on all the data in the next section."
   ]
  },
  {
   "cell_type": "code",
   "execution_count": 16,
   "metadata": {},
   "outputs": [
    {
     "name": "stdout",
     "output_type": "stream",
     "text": [
      "Checking the Training on a Single Batch...\n",
      "Epoch  1, CIFAR-10 Batch 1:  Loss:     2.0772 Validation Accuracy: 0.293400\n",
      "Epoch  2, CIFAR-10 Batch 1:  Loss:     1.9084 Validation Accuracy: 0.361400\n",
      "Epoch  3, CIFAR-10 Batch 1:  Loss:     1.7910 Validation Accuracy: 0.392200\n",
      "Epoch  4, CIFAR-10 Batch 1:  Loss:     1.7154 Validation Accuracy: 0.422000\n",
      "Epoch  5, CIFAR-10 Batch 1:  Loss:     1.6660 Validation Accuracy: 0.430000\n",
      "Epoch  6, CIFAR-10 Batch 1:  Loss:     1.5967 Validation Accuracy: 0.447200\n",
      "Epoch  7, CIFAR-10 Batch 1:  Loss:     1.5456 Validation Accuracy: 0.463800\n",
      "Epoch  8, CIFAR-10 Batch 1:  Loss:     1.4810 Validation Accuracy: 0.479600\n",
      "Epoch  9, CIFAR-10 Batch 1:  Loss:     1.4517 Validation Accuracy: 0.497600\n",
      "Epoch 10, CIFAR-10 Batch 1:  Loss:     1.3986 Validation Accuracy: 0.503600\n",
      "Epoch 11, CIFAR-10 Batch 1:  Loss:     1.3412 Validation Accuracy: 0.509000\n",
      "Epoch 12, CIFAR-10 Batch 1:  Loss:     1.2989 Validation Accuracy: 0.527600\n",
      "Epoch 13, CIFAR-10 Batch 1:  Loss:     1.2766 Validation Accuracy: 0.531800\n",
      "Epoch 14, CIFAR-10 Batch 1:  Loss:     1.2390 Validation Accuracy: 0.535400\n",
      "Epoch 15, CIFAR-10 Batch 1:  Loss:     1.2186 Validation Accuracy: 0.543400\n",
      "Epoch 16, CIFAR-10 Batch 1:  Loss:     1.1793 Validation Accuracy: 0.541800\n",
      "Epoch 17, CIFAR-10 Batch 1:  Loss:     1.1441 Validation Accuracy: 0.545200\n",
      "Epoch 18, CIFAR-10 Batch 1:  Loss:     1.1013 Validation Accuracy: 0.561000\n",
      "Epoch 19, CIFAR-10 Batch 1:  Loss:     1.0725 Validation Accuracy: 0.549800\n",
      "Epoch 20, CIFAR-10 Batch 1:  Loss:     1.0244 Validation Accuracy: 0.562600\n",
      "Epoch 21, CIFAR-10 Batch 1:  Loss:     1.0059 Validation Accuracy: 0.563600\n",
      "Epoch 22, CIFAR-10 Batch 1:  Loss:     0.9872 Validation Accuracy: 0.563800\n",
      "Epoch 23, CIFAR-10 Batch 1:  Loss:     0.9755 Validation Accuracy: 0.570600\n",
      "Epoch 24, CIFAR-10 Batch 1:  Loss:     0.9402 Validation Accuracy: 0.571400\n",
      "Epoch 25, CIFAR-10 Batch 1:  Loss:     0.8984 Validation Accuracy: 0.580600\n",
      "Epoch 26, CIFAR-10 Batch 1:  Loss:     0.8891 Validation Accuracy: 0.584200\n",
      "Epoch 27, CIFAR-10 Batch 1:  Loss:     0.8698 Validation Accuracy: 0.578600\n",
      "Epoch 28, CIFAR-10 Batch 1:  Loss:     0.8657 Validation Accuracy: 0.584800\n",
      "Epoch 29, CIFAR-10 Batch 1:  Loss:     0.8365 Validation Accuracy: 0.585400\n",
      "Epoch 30, CIFAR-10 Batch 1:  Loss:     0.8052 Validation Accuracy: 0.585800\n"
     ]
    }
   ],
   "source": [
    "\"\"\"\n",
    "DON'T MODIFY ANYTHING IN THIS CELL\n",
    "\"\"\"\n",
    "print('Checking the Training on a Single Batch...')\n",
    "with tf.Session() as sess:\n",
    "    # Initializing the variables\n",
    "    sess.run(tf.global_variables_initializer())\n",
    "    \n",
    "    # Training cycle\n",
    "    for epoch in range(epochs):\n",
    "        batch_i = 1\n",
    "        for batch_features, batch_labels in helper.load_preprocess_training_batch(batch_i, batch_size):\n",
    "            train_neural_network(sess, optimizer, keep_probability, batch_features, batch_labels)\n",
    "        print('Epoch {:>2}, CIFAR-10 Batch {}:  '.format(epoch + 1, batch_i), end='')\n",
    "        print_stats(sess, batch_features, batch_labels, cost, accuracy)"
   ]
  },
  {
   "cell_type": "markdown",
   "metadata": {},
   "source": [
    "### Fully Train the Model\n",
    "Now that you got a good accuracy with a single CIFAR-10 batch, try it with all five batches."
   ]
  },
  {
   "cell_type": "code",
   "execution_count": 17,
   "metadata": {},
   "outputs": [
    {
     "name": "stdout",
     "output_type": "stream",
     "text": [
      "Training...\n",
      "Epoch  1, CIFAR-10 Batch 1:  Loss:     2.0741 Validation Accuracy: 0.255600\n",
      "Epoch  1, CIFAR-10 Batch 2:  Loss:     1.8228 Validation Accuracy: 0.329200\n",
      "Epoch  1, CIFAR-10 Batch 3:  Loss:     1.6483 Validation Accuracy: 0.368400\n",
      "Epoch  1, CIFAR-10 Batch 4:  Loss:     1.6025 Validation Accuracy: 0.400400\n",
      "Epoch  1, CIFAR-10 Batch 5:  Loss:     1.6190 Validation Accuracy: 0.421000\n",
      "Epoch  2, CIFAR-10 Batch 1:  Loss:     1.6386 Validation Accuracy: 0.433800\n",
      "Epoch  2, CIFAR-10 Batch 2:  Loss:     1.5287 Validation Accuracy: 0.453400\n",
      "Epoch  2, CIFAR-10 Batch 3:  Loss:     1.3581 Validation Accuracy: 0.451200\n",
      "Epoch  2, CIFAR-10 Batch 4:  Loss:     1.4018 Validation Accuracy: 0.462400\n",
      "Epoch  2, CIFAR-10 Batch 5:  Loss:     1.4576 Validation Accuracy: 0.470800\n",
      "Epoch  3, CIFAR-10 Batch 1:  Loss:     1.4969 Validation Accuracy: 0.479800\n",
      "Epoch  3, CIFAR-10 Batch 2:  Loss:     1.3871 Validation Accuracy: 0.497800\n",
      "Epoch  3, CIFAR-10 Batch 3:  Loss:     1.2269 Validation Accuracy: 0.496600\n",
      "Epoch  3, CIFAR-10 Batch 4:  Loss:     1.2741 Validation Accuracy: 0.495000\n",
      "Epoch  3, CIFAR-10 Batch 5:  Loss:     1.3564 Validation Accuracy: 0.504200\n",
      "Epoch  4, CIFAR-10 Batch 1:  Loss:     1.3958 Validation Accuracy: 0.519200\n",
      "Epoch  4, CIFAR-10 Batch 2:  Loss:     1.2728 Validation Accuracy: 0.515400\n",
      "Epoch  4, CIFAR-10 Batch 3:  Loss:     1.1795 Validation Accuracy: 0.513000\n",
      "Epoch  4, CIFAR-10 Batch 4:  Loss:     1.1899 Validation Accuracy: 0.531200\n",
      "Epoch  4, CIFAR-10 Batch 5:  Loss:     1.2474 Validation Accuracy: 0.531800\n",
      "Epoch  5, CIFAR-10 Batch 1:  Loss:     1.3094 Validation Accuracy: 0.539000\n",
      "Epoch  5, CIFAR-10 Batch 2:  Loss:     1.1951 Validation Accuracy: 0.542400\n",
      "Epoch  5, CIFAR-10 Batch 3:  Loss:     1.1011 Validation Accuracy: 0.544600\n",
      "Epoch  5, CIFAR-10 Batch 4:  Loss:     1.0976 Validation Accuracy: 0.557200\n",
      "Epoch  5, CIFAR-10 Batch 5:  Loss:     1.1798 Validation Accuracy: 0.557000\n",
      "Epoch  6, CIFAR-10 Batch 1:  Loss:     1.2294 Validation Accuracy: 0.565400\n",
      "Epoch  6, CIFAR-10 Batch 2:  Loss:     1.1327 Validation Accuracy: 0.549600\n",
      "Epoch  6, CIFAR-10 Batch 3:  Loss:     1.0251 Validation Accuracy: 0.568000\n",
      "Epoch  6, CIFAR-10 Batch 4:  Loss:     1.0435 Validation Accuracy: 0.570800\n",
      "Epoch  6, CIFAR-10 Batch 5:  Loss:     1.1502 Validation Accuracy: 0.562600\n",
      "Epoch  7, CIFAR-10 Batch 1:  Loss:     1.1750 Validation Accuracy: 0.570600\n",
      "Epoch  7, CIFAR-10 Batch 2:  Loss:     1.0729 Validation Accuracy: 0.585400\n",
      "Epoch  7, CIFAR-10 Batch 3:  Loss:     0.9809 Validation Accuracy: 0.587600\n",
      "Epoch  7, CIFAR-10 Batch 4:  Loss:     0.9776 Validation Accuracy: 0.590600\n",
      "Epoch  7, CIFAR-10 Batch 5:  Loss:     1.0501 Validation Accuracy: 0.593800\n",
      "Epoch  8, CIFAR-10 Batch 1:  Loss:     1.1253 Validation Accuracy: 0.576800\n",
      "Epoch  8, CIFAR-10 Batch 2:  Loss:     1.0167 Validation Accuracy: 0.599400\n",
      "Epoch  8, CIFAR-10 Batch 3:  Loss:     0.9409 Validation Accuracy: 0.595200\n",
      "Epoch  8, CIFAR-10 Batch 4:  Loss:     0.9328 Validation Accuracy: 0.602600\n",
      "Epoch  8, CIFAR-10 Batch 5:  Loss:     0.9991 Validation Accuracy: 0.604200\n",
      "Epoch  9, CIFAR-10 Batch 1:  Loss:     1.0385 Validation Accuracy: 0.598600\n",
      "Epoch  9, CIFAR-10 Batch 2:  Loss:     0.9799 Validation Accuracy: 0.610200\n",
      "Epoch  9, CIFAR-10 Batch 3:  Loss:     0.9370 Validation Accuracy: 0.600400\n",
      "Epoch  9, CIFAR-10 Batch 4:  Loss:     0.9009 Validation Accuracy: 0.612200\n",
      "Epoch  9, CIFAR-10 Batch 5:  Loss:     0.9846 Validation Accuracy: 0.601400\n",
      "Epoch 10, CIFAR-10 Batch 1:  Loss:     1.0070 Validation Accuracy: 0.609800\n",
      "Epoch 10, CIFAR-10 Batch 2:  Loss:     0.9831 Validation Accuracy: 0.604800\n",
      "Epoch 10, CIFAR-10 Batch 3:  Loss:     0.8701 Validation Accuracy: 0.622200\n",
      "Epoch 10, CIFAR-10 Batch 4:  Loss:     0.8616 Validation Accuracy: 0.622400\n",
      "Epoch 10, CIFAR-10 Batch 5:  Loss:     0.9537 Validation Accuracy: 0.617200\n",
      "Epoch 11, CIFAR-10 Batch 1:  Loss:     0.9419 Validation Accuracy: 0.628400\n",
      "Epoch 11, CIFAR-10 Batch 2:  Loss:     0.9405 Validation Accuracy: 0.605200\n",
      "Epoch 11, CIFAR-10 Batch 3:  Loss:     0.8518 Validation Accuracy: 0.625000\n",
      "Epoch 11, CIFAR-10 Batch 4:  Loss:     0.8195 Validation Accuracy: 0.632600\n",
      "Epoch 11, CIFAR-10 Batch 5:  Loss:     0.8912 Validation Accuracy: 0.633000\n",
      "Epoch 12, CIFAR-10 Batch 1:  Loss:     0.9208 Validation Accuracy: 0.633800\n",
      "Epoch 12, CIFAR-10 Batch 2:  Loss:     0.8946 Validation Accuracy: 0.619600\n",
      "Epoch 12, CIFAR-10 Batch 3:  Loss:     0.8334 Validation Accuracy: 0.628000\n",
      "Epoch 12, CIFAR-10 Batch 4:  Loss:     0.7822 Validation Accuracy: 0.639800\n",
      "Epoch 12, CIFAR-10 Batch 5:  Loss:     0.8608 Validation Accuracy: 0.642200\n",
      "Epoch 13, CIFAR-10 Batch 1:  Loss:     0.8778 Validation Accuracy: 0.641400\n",
      "Epoch 13, CIFAR-10 Batch 2:  Loss:     0.8899 Validation Accuracy: 0.615400\n",
      "Epoch 13, CIFAR-10 Batch 3:  Loss:     0.7821 Validation Accuracy: 0.633600\n",
      "Epoch 13, CIFAR-10 Batch 4:  Loss:     0.7615 Validation Accuracy: 0.645200\n",
      "Epoch 13, CIFAR-10 Batch 5:  Loss:     0.8249 Validation Accuracy: 0.647400\n",
      "Epoch 14, CIFAR-10 Batch 1:  Loss:     0.8566 Validation Accuracy: 0.641200\n",
      "Epoch 14, CIFAR-10 Batch 2:  Loss:     0.8456 Validation Accuracy: 0.633800\n",
      "Epoch 14, CIFAR-10 Batch 3:  Loss:     0.7675 Validation Accuracy: 0.639800\n",
      "Epoch 14, CIFAR-10 Batch 4:  Loss:     0.7203 Validation Accuracy: 0.652200\n",
      "Epoch 14, CIFAR-10 Batch 5:  Loss:     0.8088 Validation Accuracy: 0.652200\n",
      "Epoch 15, CIFAR-10 Batch 1:  Loss:     0.8398 Validation Accuracy: 0.644600\n",
      "Epoch 15, CIFAR-10 Batch 2:  Loss:     0.8173 Validation Accuracy: 0.640600\n",
      "Epoch 15, CIFAR-10 Batch 3:  Loss:     0.7325 Validation Accuracy: 0.646000\n",
      "Epoch 15, CIFAR-10 Batch 4:  Loss:     0.7004 Validation Accuracy: 0.654800\n",
      "Epoch 15, CIFAR-10 Batch 5:  Loss:     0.7737 Validation Accuracy: 0.652800\n",
      "Epoch 16, CIFAR-10 Batch 1:  Loss:     0.8155 Validation Accuracy: 0.636800\n",
      "Epoch 16, CIFAR-10 Batch 2:  Loss:     0.8008 Validation Accuracy: 0.632800\n",
      "Epoch 16, CIFAR-10 Batch 3:  Loss:     0.7163 Validation Accuracy: 0.647600\n",
      "Epoch 16, CIFAR-10 Batch 4:  Loss:     0.6777 Validation Accuracy: 0.655800\n",
      "Epoch 16, CIFAR-10 Batch 5:  Loss:     0.7594 Validation Accuracy: 0.658800\n",
      "Epoch 17, CIFAR-10 Batch 1:  Loss:     0.7761 Validation Accuracy: 0.649200\n",
      "Epoch 17, CIFAR-10 Batch 2:  Loss:     0.7937 Validation Accuracy: 0.626000\n",
      "Epoch 17, CIFAR-10 Batch 3:  Loss:     0.6758 Validation Accuracy: 0.663000\n",
      "Epoch 17, CIFAR-10 Batch 4:  Loss:     0.6515 Validation Accuracy: 0.668000\n",
      "Epoch 17, CIFAR-10 Batch 5:  Loss:     0.7549 Validation Accuracy: 0.660600\n",
      "Epoch 18, CIFAR-10 Batch 1:  Loss:     0.7501 Validation Accuracy: 0.661600\n",
      "Epoch 18, CIFAR-10 Batch 2:  Loss:     0.7827 Validation Accuracy: 0.622400\n",
      "Epoch 18, CIFAR-10 Batch 3:  Loss:     0.6924 Validation Accuracy: 0.651400\n",
      "Epoch 18, CIFAR-10 Batch 4:  Loss:     0.6379 Validation Accuracy: 0.660800\n",
      "Epoch 18, CIFAR-10 Batch 5:  Loss:     0.7178 Validation Accuracy: 0.663200\n",
      "Epoch 19, CIFAR-10 Batch 1:  Loss:     0.7362 Validation Accuracy: 0.656200\n",
      "Epoch 19, CIFAR-10 Batch 2:  Loss:     0.7405 Validation Accuracy: 0.646200\n",
      "Epoch 19, CIFAR-10 Batch 3:  Loss:     0.6706 Validation Accuracy: 0.660000\n",
      "Epoch 19, CIFAR-10 Batch 4:  Loss:     0.6187 Validation Accuracy: 0.667400\n",
      "Epoch 19, CIFAR-10 Batch 5:  Loss:     0.6927 Validation Accuracy: 0.664200\n",
      "Epoch 20, CIFAR-10 Batch 1:  Loss:     0.7079 Validation Accuracy: 0.661600\n",
      "Epoch 20, CIFAR-10 Batch 2:  Loss:     0.6953 Validation Accuracy: 0.672200\n",
      "Epoch 20, CIFAR-10 Batch 3:  Loss:     0.6263 Validation Accuracy: 0.664000\n",
      "Epoch 20, CIFAR-10 Batch 4:  Loss:     0.6085 Validation Accuracy: 0.667000\n",
      "Epoch 20, CIFAR-10 Batch 5:  Loss:     0.6623 Validation Accuracy: 0.674800\n",
      "Epoch 21, CIFAR-10 Batch 1:  Loss:     0.6639 Validation Accuracy: 0.670200\n",
      "Epoch 21, CIFAR-10 Batch 2:  Loss:     0.6649 Validation Accuracy: 0.670800\n",
      "Epoch 21, CIFAR-10 Batch 3:  Loss:     0.6204 Validation Accuracy: 0.671400\n",
      "Epoch 21, CIFAR-10 Batch 4:  Loss:     0.5872 Validation Accuracy: 0.674600\n",
      "Epoch 21, CIFAR-10 Batch 5:  Loss:     0.6297 Validation Accuracy: 0.677400\n",
      "Epoch 22, CIFAR-10 Batch 1:  Loss:     0.6547 Validation Accuracy: 0.675600\n",
      "Epoch 22, CIFAR-10 Batch 2:  Loss:     0.6584 Validation Accuracy: 0.674600\n"
     ]
    },
    {
     "name": "stdout",
     "output_type": "stream",
     "text": [
      "Epoch 22, CIFAR-10 Batch 3:  Loss:     0.5938 Validation Accuracy: 0.668000\n",
      "Epoch 22, CIFAR-10 Batch 4:  Loss:     0.5579 Validation Accuracy: 0.678000\n",
      "Epoch 22, CIFAR-10 Batch 5:  Loss:     0.6136 Validation Accuracy: 0.678400\n",
      "Epoch 23, CIFAR-10 Batch 1:  Loss:     0.6379 Validation Accuracy: 0.682400\n",
      "Epoch 23, CIFAR-10 Batch 2:  Loss:     0.6242 Validation Accuracy: 0.684200\n",
      "Epoch 23, CIFAR-10 Batch 3:  Loss:     0.5964 Validation Accuracy: 0.670800\n",
      "Epoch 23, CIFAR-10 Batch 4:  Loss:     0.5602 Validation Accuracy: 0.673400\n",
      "Epoch 23, CIFAR-10 Batch 5:  Loss:     0.6052 Validation Accuracy: 0.680400\n",
      "Epoch 24, CIFAR-10 Batch 1:  Loss:     0.6204 Validation Accuracy: 0.677400\n",
      "Epoch 24, CIFAR-10 Batch 2:  Loss:     0.6150 Validation Accuracy: 0.679000\n",
      "Epoch 24, CIFAR-10 Batch 3:  Loss:     0.5452 Validation Accuracy: 0.680200\n",
      "Epoch 24, CIFAR-10 Batch 4:  Loss:     0.5485 Validation Accuracy: 0.675000\n",
      "Epoch 24, CIFAR-10 Batch 5:  Loss:     0.5908 Validation Accuracy: 0.685200\n",
      "Epoch 25, CIFAR-10 Batch 1:  Loss:     0.5946 Validation Accuracy: 0.674800\n",
      "Epoch 25, CIFAR-10 Batch 2:  Loss:     0.6190 Validation Accuracy: 0.671400\n",
      "Epoch 25, CIFAR-10 Batch 3:  Loss:     0.5262 Validation Accuracy: 0.679400\n",
      "Epoch 25, CIFAR-10 Batch 4:  Loss:     0.5448 Validation Accuracy: 0.674000\n",
      "Epoch 25, CIFAR-10 Batch 5:  Loss:     0.5788 Validation Accuracy: 0.684600\n",
      "Epoch 26, CIFAR-10 Batch 1:  Loss:     0.5832 Validation Accuracy: 0.681400\n",
      "Epoch 26, CIFAR-10 Batch 2:  Loss:     0.5801 Validation Accuracy: 0.688000\n",
      "Epoch 26, CIFAR-10 Batch 3:  Loss:     0.5242 Validation Accuracy: 0.677400\n",
      "Epoch 26, CIFAR-10 Batch 4:  Loss:     0.5174 Validation Accuracy: 0.678600\n",
      "Epoch 26, CIFAR-10 Batch 5:  Loss:     0.5592 Validation Accuracy: 0.686800\n",
      "Epoch 27, CIFAR-10 Batch 1:  Loss:     0.5752 Validation Accuracy: 0.686800\n",
      "Epoch 27, CIFAR-10 Batch 2:  Loss:     0.5996 Validation Accuracy: 0.669000\n",
      "Epoch 27, CIFAR-10 Batch 3:  Loss:     0.5166 Validation Accuracy: 0.680400\n",
      "Epoch 27, CIFAR-10 Batch 4:  Loss:     0.4883 Validation Accuracy: 0.678400\n",
      "Epoch 27, CIFAR-10 Batch 5:  Loss:     0.5414 Validation Accuracy: 0.687800\n",
      "Epoch 28, CIFAR-10 Batch 1:  Loss:     0.5530 Validation Accuracy: 0.687400\n",
      "Epoch 28, CIFAR-10 Batch 2:  Loss:     0.5549 Validation Accuracy: 0.685600\n",
      "Epoch 28, CIFAR-10 Batch 3:  Loss:     0.4989 Validation Accuracy: 0.681600\n",
      "Epoch 28, CIFAR-10 Batch 4:  Loss:     0.4837 Validation Accuracy: 0.688000\n",
      "Epoch 28, CIFAR-10 Batch 5:  Loss:     0.5218 Validation Accuracy: 0.691400\n",
      "Epoch 29, CIFAR-10 Batch 1:  Loss:     0.5534 Validation Accuracy: 0.687400\n",
      "Epoch 29, CIFAR-10 Batch 2:  Loss:     0.5321 Validation Accuracy: 0.686800\n",
      "Epoch 29, CIFAR-10 Batch 3:  Loss:     0.4963 Validation Accuracy: 0.692000\n",
      "Epoch 29, CIFAR-10 Batch 4:  Loss:     0.4853 Validation Accuracy: 0.681800\n",
      "Epoch 29, CIFAR-10 Batch 5:  Loss:     0.5271 Validation Accuracy: 0.685200\n",
      "Epoch 30, CIFAR-10 Batch 1:  Loss:     0.5536 Validation Accuracy: 0.684200\n",
      "Epoch 30, CIFAR-10 Batch 2:  Loss:     0.5520 Validation Accuracy: 0.675400\n",
      "Epoch 30, CIFAR-10 Batch 3:  Loss:     0.4650 Validation Accuracy: 0.691800\n",
      "Epoch 30, CIFAR-10 Batch 4:  Loss:     0.4650 Validation Accuracy: 0.687000\n",
      "Epoch 30, CIFAR-10 Batch 5:  Loss:     0.5164 Validation Accuracy: 0.690600\n"
     ]
    }
   ],
   "source": [
    "\"\"\"\n",
    "DON'T MODIFY ANYTHING IN THIS CELL\n",
    "\"\"\"\n",
    "save_model_path = './image_classification'\n",
    "\n",
    "print('Training...')\n",
    "with tf.Session() as sess:\n",
    "    # Initializing the variables\n",
    "    sess.run(tf.global_variables_initializer())\n",
    "    \n",
    "    # Training cycle\n",
    "    for epoch in range(epochs):\n",
    "        # Loop over all batches\n",
    "        n_batches = 5\n",
    "        for batch_i in range(1, n_batches + 1):\n",
    "            for batch_features, batch_labels in helper.load_preprocess_training_batch(batch_i, batch_size):\n",
    "                train_neural_network(sess, optimizer, keep_probability, batch_features, batch_labels)\n",
    "            print('Epoch {:>2}, CIFAR-10 Batch {}:  '.format(epoch + 1, batch_i), end='')\n",
    "            print_stats(sess, batch_features, batch_labels, cost, accuracy)\n",
    "            \n",
    "    # Save Model\n",
    "    saver = tf.train.Saver()\n",
    "    save_path = saver.save(sess, save_model_path)"
   ]
  },
  {
   "cell_type": "markdown",
   "metadata": {},
   "source": [
    "# Checkpoint\n",
    "The model has been saved to disk.\n",
    "## Test Model\n",
    "Test your model against the test dataset.  This will be your final accuracy. You should have an accuracy greater than 50%. If you don't, keep tweaking the model architecture and parameters."
   ]
  },
  {
   "cell_type": "code",
   "execution_count": 18,
   "metadata": {},
   "outputs": [
    {
     "name": "stdout",
     "output_type": "stream",
     "text": [
      "INFO:tensorflow:Restoring parameters from ./image_classification\n",
      "Testing Accuracy: 0.6909064799547195\n",
      "\n"
     ]
    },
    {
     "data": {
      "image/png": "[encoded data removed]",
      "text/plain": [
       "<matplotlib.figure.Figure at 0x28194131cf8>"
      ]
     },
     "metadata": {
      "image/png": {
       "height": 319,
       "width": 355
      }
     },
     "output_type": "display_data"
    }
   ],
   "source": [
    "\"\"\"\n",
    "DON'T MODIFY ANYTHING IN THIS CELL\n",
    "\"\"\"\n",
    "%matplotlib inline\n",
    "%config InlineBackend.figure_format = 'retina'\n",
    "\n",
    "import tensorflow as tf\n",
    "import pickle\n",
    "import helper\n",
    "import random\n",
    "\n",
    "# Set batch size if not already set\n",
    "try:\n",
    "    if batch_size:\n",
    "        pass\n",
    "except NameError:\n",
    "    batch_size = 64\n",
    "\n",
    "save_model_path = './image_classification'\n",
    "n_samples = 4\n",
    "top_n_predictions = 3\n",
    "\n",
    "def test_model():\n",
    "    \"\"\"\n",
    "    Test the saved model against the test dataset\n",
    "    \"\"\"\n",
    "\n",
    "    test_features, test_labels = pickle.load(open('preprocess_test.p', mode='rb'))\n",
    "    loaded_graph = tf.Graph()\n",
    "\n",
    "    with tf.Session(graph=loaded_graph) as sess:\n",
    "        # Load model\n",
    "        loader = tf.train.import_meta_graph(save_model_path + '.meta')\n",
    "        loader.restore(sess, save_model_path)\n",
    "\n",
    "        # Get Tensors from loaded model\n",
    "        loaded_x = loaded_graph.get_tensor_by_name('x:0')\n",
    "        loaded_y = loaded_graph.get_tensor_by_name('y:0')\n",
    "        loaded_keep_prob = loaded_graph.get_tensor_by_name('keep_prob:0')\n",
    "        loaded_logits = loaded_graph.get_tensor_by_name('logits:0')\n",
    "        loaded_acc = loaded_graph.get_tensor_by_name('accuracy:0')\n",
    "        \n",
    "        # Get accuracy in batches for memory limitations\n",
    "        test_batch_acc_total = 0\n",
    "        test_batch_count = 0\n",
    "        \n",
    "        for test_feature_batch, test_label_batch in helper.batch_features_labels(test_features, test_labels, batch_size):\n",
    "            test_batch_acc_total += sess.run(\n",
    "                loaded_acc,\n",
    "                feed_dict={loaded_x: test_feature_batch, loaded_y: test_label_batch, loaded_keep_prob: 1.0})\n",
    "            test_batch_count += 1\n",
    "\n",
    "        print('Testing Accuracy: {}\\n'.format(test_batch_acc_total/test_batch_count))\n",
    "\n",
    "        # Print Random Samples\n",
    "        random_test_features, random_test_labels = tuple(zip(*random.sample(list(zip(test_features, test_labels)), n_samples)))\n",
    "        random_test_predictions = sess.run(\n",
    "            tf.nn.top_k(tf.nn.softmax(loaded_logits), top_n_predictions),\n",
    "            feed_dict={loaded_x: random_test_features, loaded_y: random_test_labels, loaded_keep_prob: 1.0})\n",
    "        helper.display_image_predictions(random_test_features, random_test_labels, random_test_predictions)\n",
    "\n",
    "\n",
    "test_model()"
   ]
  },
  {
   "cell_type": "markdown",
   "metadata": {},
   "source": [
    "## Why 50-80% Accuracy?\n",
    "You might be wondering why you can't get an accuracy any higher. First things first, 50% isn't bad for a simple CNN.  Pure guessing would get you 10% accuracy. However, you might notice people are getting scores [well above 80%](http://rodrigob.github.io/are_we_there_yet/build/classification_datasets_results.html#43494641522d3130).  That's because we haven't taught you all there is to know about neural networks. We still need to cover a few more techniques.\n",
    "## Submitting This Project\n",
    "When submitting this project, make sure to run all the cells before saving the notebook.  Save the notebook file as \"dlnd_image_classification.ipynb\" and save it as a HTML file under \"File\" -> \"Download as\".  Include the \"helper.py\" and \"problem_unittests.py\" files in your submission."
   ]
  },
  {
   "cell_type": "code",
   "execution_count": null,
   "metadata": {
    "collapsed": true
   },
   "outputs": [],
   "source": []
  }
 ],
 "metadata": {
  "kernelspec": {
   "display_name": "Python 3",
   "language": "python",
   "name": "python3"
  },
  "language_info": {
   "codemirror_mode": {
    "name": "ipython",
    "version": 3
   },
   "file_extension": ".py",
   "mimetype": "text/x-python",
   "name": "python",
   "nbconvert_exporter": "python",
   "pygments_lexer": "ipython3",
   "version": "3.6.2"
  }
 },
 "nbformat": 4,
 "nbformat_minor": 1
}
